{
  "nbformat": 4,
  "nbformat_minor": 0,
  "metadata": {
    "colab": {
      "provenance": [],
      "authorship_tag": "ABX9TyNK87QJiveptfDovm5eGAuU",
      "include_colab_link": true
    },
    "kernelspec": {
      "name": "python3",
      "display_name": "Python 3"
    },
    "language_info": {
      "name": "python"
    }
  },
  "cells": [
    {
      "cell_type": "markdown",
      "metadata": {
        "id": "view-in-github",
        "colab_type": "text"
      },
      "source": [
        "<a href=\"https://colab.research.google.com/github/chizukeiku/MangoYOLOv5/blob/master/MangoDetectionYOLOv5.ipynb\" target=\"_parent\"><img src=\"https://colab.research.google.com/assets/colab-badge.svg\" alt=\"Open In Colab\"/></a>"
      ]
    },
    {
      "cell_type": "code",
      "source": [
        "!git clone https://github.com/chizukeiku/MangoYOLOv5.git # git clone\n",
        "%cd MangoYOLOv5\n",
        "%pip install -qr requirements.txt # install YOLOv5 requirements\n",
        "\n",
        "import torch\n",
        "import utils\n",
        "display = utils.notebook_init()"
      ],
      "metadata": {
        "colab": {
          "base_uri": "https://localhost:8080/"
        },
        "id": "Ga3JGbee08Yt",
        "outputId": "c4279b62-fb6c-4f75-cb14-90a09357199a"
      },
      "execution_count": null,
      "outputs": [
        {
          "output_type": "stream",
          "name": "stderr",
          "text": [
            "YOLOv5 🚀 a667b3e Python-3.10.12 torch-2.1.0+cu121 CPU\n"
          ]
        },
        {
          "output_type": "stream",
          "name": "stdout",
          "text": [
            "Setup complete ✅ (2 CPUs, 12.7 GB RAM, 26.4/107.7 GB disk)\n"
          ]
        }
      ]
    },
    {
      "cell_type": "code",
      "source": [
        "!ls # list files in directory"
      ],
      "metadata": {
        "colab": {
          "base_uri": "https://localhost:8080/"
        },
        "id": "l-Br7hBF1B4t",
        "outputId": "3c87b8df-9f0e-4b54-b337-020707b2790b"
      },
      "execution_count": null,
      "outputs": [
        {
          "output_type": "stream",
          "name": "stdout",
          "text": [
            "benchmarks.py  CONTRIBUTING.md\texport.py   mango\t pyproject.toml    segment\t   utils\n",
            "CITATION.cff   data\t\thubconf.py  Mango_Image  README.md\t   train.py\t   val.py\n",
            "classify       detect.py\tLICENSE     models\t requirements.txt  tutorial.ipynb\n"
          ]
        }
      ]
    },
    {
      "cell_type": "code",
      "execution_count": null,
      "metadata": {
        "id": "7w0XA3eC0S0i"
      },
      "outputs": [],
      "source": [
        "# Example Code Use\n",
        "# !python detect.py --source (mango images/videos file path) --weights /content/MangoYOLOv5/mango/weights/best.pt --conf (confidence threshold desired)\n",
        "# !python detect.py --source 0       webcam\n",
        "#                          img.jpg  image\n",
        "#                          vid.mp4  video\n",
        "#                          screen   screenshot\n",
        "#                          path/    directory\n",
        "#                         'path/*.jpg'   glob\n",
        "#                         'https://youtu.be/LNwODJXcvt4'   YouTube\n",
        "#                         'rtsp://example.com/media.mp4'   RTSP, RTMP, HTTP stream\n",
        "\n",
        "!python detect.py --source /content/MangoYOLOv5/Mango_Image --weights /content/MangoYOLOv5/mango/weights/best.pt --conf 0.70"
      ]
    },
    {
      "cell_type": "code",
      "source": [
        "# for multiple images, folder needed to be zip\n",
        "# !zip -r detected_mango.zip (detected images file path)\n",
        "!zip -r detected_mango.zip /content/MangoYOLOv5/runs/detect/detected_mango\n",
        "\n",
        "from google.colab import files # export detected mango\n",
        "files.download(\"detected_mango.zip\")\n",
        "\n",
        "# for single image\n",
        "# files.download(image_name.jpg)"
      ],
      "metadata": {
        "id": "iIL9oFl--QgK"
      },
      "execution_count": null,
      "outputs": []
    }
  ]
}